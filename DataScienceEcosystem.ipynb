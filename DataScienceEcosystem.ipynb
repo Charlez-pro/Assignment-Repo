{
  "nbformat": 4,
  "nbformat_minor": 0,
  "metadata": {
    "colab": {
      "provenance": []
    },
    "kernelspec": {
      "name": "python3",
      "display_name": "Python 3"
    },
    "language_info": {
      "name": "python"
    }
  },
  "cells": [
    {
      "cell_type": "markdown",
      "source": [
        "# Data Science Tools and Ecosystem"
      ],
      "metadata": {
        "id": "dnslfTvYzf-Y"
      }
    },
    {
      "cell_type": "markdown",
      "source": [
        "In this notebook, data science tools and ecosystem are summarized"
      ],
      "metadata": {
        "id": "i8cDh7qwOALe"
      }
    },
    {
      "cell_type": "markdown",
      "source": [
        "**Objectives**\n",
        "- List popular languages for Data Science\n",
        "- List commomly used libraries in Data Science\n",
        "- Data Science tools\n",
        "- Simple arithmetic expression to add and multiply integers\n",
        "- Simple arithmetic expression to convert minutes to hours by division"
      ],
      "metadata": {
        "id": "QRh8qzmz-g5v"
      }
    },
    {
      "cell_type": "markdown",
      "source": [
        "Some of the popular languages that Data Scientists use are:\n",
        "1. Python\n",
        "2. R\n",
        "3. Julia\n",
        "4. Java"
      ],
      "metadata": {
        "id": "FXTdzYokRfwZ"
      }
    },
    {
      "cell_type": "markdown",
      "source": [
        "Some of the commonly used Libraries used by Data Scientists include:\n",
        "1. Numpy\n",
        "2. Pandas\n",
        "3. caret\n",
        "4. ggplot2"
      ],
      "metadata": {
        "id": "11Clo0qRTeRV"
      }
    },
    {
      "cell_type": "markdown",
      "source": [
        "|  |Data Science Tools\n",
        "|--|------------------\n",
        "|1.|Jupyter\n",
        "|2.|RStudio\n",
        "|3.|Spyder\n"
      ],
      "metadata": {
        "id": "zUxPKh4np0dP"
      }
    },
    {
      "cell_type": "markdown",
      "source": [
        "### Below are a few examples of evaluating arithmetic expressions in Python"
      ],
      "metadata": {
        "id": "BVr-pz4kuJUg"
      }
    },
    {
      "cell_type": "code",
      "source": [
        "# This is a simple arithmetic expression to multiply then add integers\n",
        "(3*4)+5"
      ],
      "metadata": {
        "colab": {
          "base_uri": "https://localhost:8080/"
        },
        "id": "WAzup1BMyruK",
        "outputId": "1e3df28b-3d86-4f66-e5b7-b4676b1b13dc"
      },
      "execution_count": 1,
      "outputs": [
        {
          "output_type": "execute_result",
          "data": {
            "text/plain": [
              "17"
            ]
          },
          "metadata": {},
          "execution_count": 1
        }
      ]
    },
    {
      "cell_type": "code",
      "source": [
        "# This will convert 200 minutes to hours by dividing by 60\n",
        "200/60"
      ],
      "metadata": {
        "colab": {
          "base_uri": "https://localhost:8080/"
        },
        "id": "f6EMv_PI2NFs",
        "outputId": "fd94449b-b504-4839-bbd4-e721c0ea42b9"
      },
      "execution_count": 2,
      "outputs": [
        {
          "output_type": "execute_result",
          "data": {
            "text/plain": [
              "3.3333333333333335"
            ]
          },
          "metadata": {},
          "execution_count": 2
        }
      ]
    },
    {
      "cell_type": "markdown",
      "source": [
        "## Author\n",
        "Charles Deba"
      ],
      "metadata": {
        "id": "qv8XmgzKDojz"
      }
    }
  ]
}